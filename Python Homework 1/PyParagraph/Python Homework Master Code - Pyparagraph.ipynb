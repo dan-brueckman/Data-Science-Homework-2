{
 "cells": [
  {
   "cell_type": "code",
   "execution_count": 6,
   "metadata": {},
   "outputs": [
    {
     "name": "stdout",
     "output_type": "stream",
     "text": [
      "Paragraph Analysis\n",
      "------------------\n",
      "Approximate Word Count: 117\n",
      "Approximate Sentence Count: 5\n",
      "Average Letter Count: 4.598290598290598\n",
      "Average Word Count: 23.4\n"
     ]
    }
   ],
   "source": [
    "import os\n",
    "txt_file = os.path.join(\".\", \"Homework_Python_Word_Counter.txt\")\n",
    "alpha = [\"a\",\"b\",\"c\",\"d\",\"e\",\"f\",\"g\",\"h\",\"i\",\"j\",\"k\",\"l\",\"m\",\"n\",\"o\",\"p\",\"q\",\"r\",\"s\",\"t\",\"u\",\"v\",\"w\",\"x\",\"y\",\"z\", \"A\", \"B\", \"C\", \"D\", \"E\", \"F\", \"G\", \"H\", \"I\", \"J\", \"K\", \"L\",\"M\", \"N\",\"O\",\"P\",\"Q\",\"R\",\"S\",\"T\",\"U\",\"V\",\"W\",\"X\",\"Y\",\"Z\"]\n",
    "with open(txt_file, \"r\") as tf:\n",
    "    data = tf.read()\n",
    "    letter_count = 0\n",
    "    words = len(data.split())\n",
    "    sentences = data.count(\". \")+1\n",
    "    for letter in alpha:\n",
    "        under = data.count(letter)\n",
    "        letter_count += under\n",
    "    avg_letters = (letter_count/words)\n",
    "    avg_words = words/sentences\n",
    "    \n",
    "print(\"Paragraph Analysis\")\n",
    "print(\"------------------\")\n",
    "print(\"Approximate Word Count: \" + str(words))\n",
    "print(\"Approximate Sentence Count: \" + str(sentences))\n",
    "print(\"Average Letter Count: \" + str(avg_letters))\n",
    "print(\"Average Word Count: \" + str(avg_words))"
   ]
  },
  {
   "cell_type": "code",
   "execution_count": null,
   "metadata": {
    "collapsed": true
   },
   "outputs": [],
   "source": []
  }
 ],
 "metadata": {
  "kernelspec": {
   "display_name": "Python 3",
   "language": "python",
   "name": "python3"
  },
  "language_info": {
   "codemirror_mode": {
    "name": "ipython",
    "version": 3
   },
   "file_extension": ".py",
   "mimetype": "text/x-python",
   "name": "python",
   "nbconvert_exporter": "python",
   "pygments_lexer": "ipython3",
   "version": "3.6.3"
  }
 },
 "nbformat": 4,
 "nbformat_minor": 2
}
