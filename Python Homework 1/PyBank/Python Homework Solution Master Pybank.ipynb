{
 "cells": [
  {
   "cell_type": "code",
   "execution_count": 10,
   "metadata": {},
   "outputs": [
    {
     "name": "stdout",
     "output_type": "stream",
     "text": [
      "Financial Analysis\n",
      "------------------\n",
      "Total Months: 41\n",
      "Total Revenue: $18,971,412.00\n",
      "Average Revenue Change: $462,717.37\n",
      "Greatest Increase in Revenue: Sep-15 - $1,195,111.00\n",
      "Greatest Decrease in Revenue: Aug-14 - ($1,172,384.00)\n"
     ]
    }
   ],
   "source": [
    "import os\n",
    "import csv\n",
    "import locale\n",
    "locale.setlocale( locale.LC_ALL, '' )\n",
    "csv_path = os.path.join(\".\", \"budget_data_1.csv\")\n",
    "with open(csv_path, \"r\") as csvfile:\n",
    "    csvreader = csv.reader(csvfile, delimiter=',')\n",
    "    next(csvreader, None)\n",
    "    rev_list = []\n",
    "    date_list = []\n",
    "    month_count = 0\n",
    "    revenue = 0\n",
    "    for row in csvreader:\n",
    "        month_count += 1 \n",
    "        revenue += float(row[1])\n",
    "        rev_list.append(float(row[1]))\n",
    "        date_list.append(row[0])\n",
    "    high_rev = max(rev_list)\n",
    "    low_rev = min(rev_list)\n",
    "    for x in rev_list:\n",
    "        if x == high_rev:\n",
    "            high_index = rev_list.index(x)\n",
    "        elif x == low_rev:\n",
    "            low_index = rev_list.index(x)\n",
    "    high_date = date_list[high_index]\n",
    "    low_date = date_list[low_index]\n",
    "    avg_rev_change = revenue/month_count\n",
    "high_money = locale.currency(high_rev, grouping=True)\n",
    "low_money = locale.currency(low_rev, grouping=True)\n",
    "total_money = locale.currency(revenue, grouping=True)\n",
    "avg_money = locale.currency(avg_rev_change, grouping=True)\n",
    "\n",
    "print(\"Financial Analysis\")\n",
    "print(\"------------------\")\n",
    "print(\"Total Months: \" + str(month_count))\n",
    "print(\"Total Revenue: \" + str(total_money))\n",
    "print(\"Average Revenue Change: \" + str(avg_money)) \n",
    "print(\"Greatest Increase in Revenue: \" + str(high_date) + \" - \" + str(high_money))\n",
    "print(\"Greatest Decrease in Revenue: \" + str(low_date) + \" - \" + str(low_money))"
   ]
  },
  {
   "cell_type": "code",
   "execution_count": null,
   "metadata": {
    "collapsed": true
   },
   "outputs": [],
   "source": []
  }
 ],
 "metadata": {
  "kernelspec": {
   "display_name": "Python 3",
   "language": "python",
   "name": "python3"
  },
  "language_info": {
   "codemirror_mode": {
    "name": "ipython",
    "version": 3
   },
   "file_extension": ".py",
   "mimetype": "text/x-python",
   "name": "python",
   "nbconvert_exporter": "python",
   "pygments_lexer": "ipython3",
   "version": "3.6.3"
  }
 },
 "nbformat": 4,
 "nbformat_minor": 2
}
