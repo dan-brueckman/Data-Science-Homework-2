{
 "cells": [
  {
   "cell_type": "code",
   "execution_count": 1,
   "metadata": {},
   "outputs": [],
   "source": [
    "import pandas as pd\n",
    "import numpy as np\n",
    "import os\n",
    "import sqlalchemy\n",
    "from sqlalchemy import create_engine, MetaData\n",
    "from sqlalchemy.ext.automap import automap_base\n",
    "from sqlalchemy import Column, Integer, String, Numeric, Text, Float"
   ]
  },
  {
   "cell_type": "code",
   "execution_count": 2,
   "metadata": {
    "scrolled": true
   },
   "outputs": [
    {
     "name": "stderr",
     "output_type": "stream",
     "text": [
      "C:\\Users\\dan.brueckman\\Anaconda3\\envs\\PythonData\\lib\\site-packages\\flask_sqlalchemy\\__init__.py:794: FSADeprecationWarning: SQLALCHEMY_TRACK_MODIFICATIONS adds significant overhead and will be disabled by default in the future.  Set it to True or False to suppress this warning.\n",
      "  'SQLALCHEMY_TRACK_MODIFICATIONS adds significant overhead and '\n"
     ]
    }
   ],
   "source": [
    "from flask_sqlalchemy import SQLAlchemy\n",
    "from flask import (\n",
    "    Flask,\n",
    "    render_template,\n",
    "    jsonify,\n",
    "    request,\n",
    "    redirect)\n",
    "from sqlalchemy.orm import Session\n",
    "\n",
    "app = Flask(__name__)\n",
    "\n",
    "app.config['SQLALCHEMY_DATABASE_URI'] = \"sqlite:///belly_button_biodiversity.sqlite\"\n",
    "db = SQLAlchemy(app)"
   ]
  },
  {
   "cell_type": "code",
   "execution_count": 3,
   "metadata": {},
   "outputs": [],
   "source": [
    "engine = create_engine(\"sqlite:///belly_button_biodiversity.sqlite\")"
   ]
  },
  {
   "cell_type": "code",
   "execution_count": 4,
   "metadata": {},
   "outputs": [
    {
     "data": {
      "text/plain": [
       "['otu', 'samples', 'samples_metadata']"
      ]
     },
     "execution_count": 4,
     "metadata": {},
     "output_type": "execute_result"
    }
   ],
   "source": [
    "engine.table_names()"
   ]
  },
  {
   "cell_type": "code",
   "execution_count": 5,
   "metadata": {},
   "outputs": [],
   "source": [
    "Base = automap_base()\n",
    "Base.prepare(engine, reflect=True)\n",
    "session = Session(engine)"
   ]
  },
  {
   "cell_type": "code",
   "execution_count": 6,
   "metadata": {
    "collapsed": true
   },
   "outputs": [],
   "source": [
    "OTU = Base.classes.otu\n",
    "Samples = Base.classes.samples\n",
    "MD = Base.classes.samples_metadata"
   ]
  },
  {
   "cell_type": "code",
   "execution_count": 7,
   "metadata": {},
   "outputs": [],
   "source": [
    "@app.route(\"/\")\n",
    "def home():\n",
    "    return render_template(\"index.html\")"
   ]
  },
  {
   "cell_type": "code",
   "execution_count": 8,
   "metadata": {},
   "outputs": [],
   "source": [
    "@app.route(\"/names\")\n",
    "def names():\n",
    "    \n",
    "    \"\"\"List of sample names.\n",
    "\n",
    "    Returns a list of sample names in the format\n",
    "    [\n",
    "        \"940\",\n",
    "        \"941\",\n",
    "        \"943\",\n",
    "        \"944\",\n",
    "        \"945\",\n",
    "        \"946\",\n",
    "        \"947\",\n",
    "        ...\n",
    "    ]\n",
    "\n",
    "    \"\"\"\n",
    "    \n",
    "    results = db.session.query(MD.SAMPLEID).all()\n",
    "    results = list(np.ravel(results))\n",
    "    return results"
   ]
  },
  {
   "cell_type": "code",
   "execution_count": 9,
   "metadata": {},
   "outputs": [],
   "source": [
    "@app.route(\"/otu\")\n",
    "def otu():\n",
    "    \n",
    "    \"\"\"List of OTU descriptions.\n",
    "\n",
    "    Returns a list of OTU descriptions in the following format\n",
    "\n",
    "    [\n",
    "        \"Archaea;Euryarchaeota;Halobacteria;Halobacteriales;Halobacteriaceae;Halococcus\",\n",
    "        \"Archaea;Euryarchaeota;Halobacteria;Halobacteriales;Halobacteriaceae;Halococcus\",\n",
    "        \"Bacteria\",\n",
    "        \"Bacteria\",\n",
    "        \"Bacteria\",\n",
    "        ...\n",
    "    ]\n",
    "    \"\"\"\n",
    "    results = db.session.query(OTU.lowest_taxonomic_unit_found).all()\n",
    "    results = list(np.ravel(results))\n",
    "    return results"
   ]
  },
  {
   "cell_type": "code",
   "execution_count": 10,
   "metadata": {},
   "outputs": [],
   "source": [
    "@app.route('/metadata/<int:sample>')\n",
    "def meta(sample):\n",
    "    \n",
    "    \"\"\"MetaData for a given sample.\n",
    "\n",
    "    Args: Sample in the format: `940`\n",
    "\n",
    "    Returns a json dictionary of sample metadata in the format\n",
    "\n",
    "    {\n",
    "        AGE: 24,\n",
    "        BBTYPE: \"I\",\n",
    "        ETHNICITY: \"Caucasian\",\n",
    "        GENDER: \"F\",\n",
    "        LOCATION: \"Beaufort/NC\",\n",
    "        SAMPLEID: 940\n",
    "    }\n",
    "    \"\"\"\n",
    "    req = db.session.query(MD.SAMPLEID).all()\n",
    "    ravel = list(np.ravel(req))\n",
    "    if sample in ravel:\n",
    "        results = db.session.query(MD.AGE, MD.BBTYPE, MD.ETHNICITY, MD.GENDER, MD.LOCATION, MD.SAMPLEID).\\\n",
    "            filter(MD.SAMPLEID == sample).all()\n",
    "        df = pd.DataFrame(results, columns = [\"AGE\", \"BBTYPE\", \"ETHNICITY\", \"GENDER\", \"LOCATION\", \"SAMPLEID\"])\n",
    "        return jsonify(df.to_dict(orient=\"records\"))"
   ]
  },
  {
   "cell_type": "code",
   "execution_count": 11,
   "metadata": {
    "scrolled": true
   },
   "outputs": [],
   "source": [
    "@app.route('/wfreq/<int:sample>')\n",
    "def wash(sample):\n",
    "    \"\"\"Weekly Washing Frequency as a number.\n",
    "\n",
    "    Args: Sample in the format: `940`\n",
    "\n",
    "    Returns an integer value for the weekly washing frequency `WFREQ`\n",
    "    \"\"\"\n",
    "    req = db.session.query(MD.SAMPLEID).all()\n",
    "    ravel = list(np.ravel(req))\n",
    "    if sample in ravel:\n",
    "        results = db.session.query(MD.WFREQ).\\\n",
    "            filter(MD.SAMPLEID == sample).all()\n",
    "        return int(np.ravel(results))"
   ]
  },
  {
   "cell_type": "code",
   "execution_count": 12,
   "metadata": {
    "scrolled": true
   },
   "outputs": [],
   "source": [
    "@app.route('/samples/<int:sample>')\n",
    "def values(sample):\n",
    "    \n",
    "    \"\"\"OTU IDs and Sample Values for a given sample.\n",
    "\n",
    "    Sort your Pandas DataFrame (OTU ID and Sample Value)\n",
    "    in Descending Order by Sample Value\n",
    "\n",
    "    Return a list of dictionaries containing sorted lists  for `otu_ids`\n",
    "    and `sample_values`\n",
    "\n",
    "    [\n",
    "        {\n",
    "            otu_ids: [\n",
    "                1166,\n",
    "                2858,\n",
    "                481,\n",
    "                ...\n",
    "            ],\n",
    "            sample_values: [\n",
    "                163,\n",
    "                126,\n",
    "                113,\n",
    "                ...\n",
    "            ]\n",
    "        }\n",
    "    ]\n",
    "    \"\"\"\n",
    "    req = db.session.query(MD.SAMPLEID).all()\n",
    "    ravel = list(np.ravel(req))\n",
    "    if sample in ravel:\n",
    "        results = engine.execute(\"select otu_id, BB_%s from samples\" % sample).fetchall()\n",
    "        df = pd.DataFrame(results, columns = [\"otu_ids\", \"sample_values\"])\n",
    "        df.sort_values(by=\"sample_values\", ascending = False, inplace = True)\n",
    "        new_dict = df.to_dict(orient=\"list\")\n",
    "        return new_dict"
   ]
  },
  {
   "cell_type": "code",
   "execution_count": null,
   "metadata": {},
   "outputs": [],
   "source": []
  },
  {
   "cell_type": "code",
   "execution_count": null,
   "metadata": {},
   "outputs": [],
   "source": []
  },
  {
   "cell_type": "code",
   "execution_count": null,
   "metadata": {
    "collapsed": true
   },
   "outputs": [],
   "source": []
  }
 ],
 "metadata": {
  "kernelspec": {
   "display_name": "Python 3",
   "language": "python",
   "name": "python3"
  },
  "language_info": {
   "codemirror_mode": {
    "name": "ipython",
    "version": 3
   },
   "file_extension": ".py",
   "mimetype": "text/x-python",
   "name": "python",
   "nbconvert_exporter": "python",
   "pygments_lexer": "ipython3",
   "version": "3.6.3"
  }
 },
 "nbformat": 4,
 "nbformat_minor": 2
}
