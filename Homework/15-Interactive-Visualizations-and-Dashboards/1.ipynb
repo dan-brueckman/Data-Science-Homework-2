{
 "cells": [
  {
   "cell_type": "code",
   "execution_count": 1,
   "metadata": {},
   "outputs": [],
   "source": [
    "import pandas as pd\n",
    "import numpy as np\n",
    "import os\n",
    "import sqlalchemy\n",
    "from sqlalchemy import create_engine, MetaData\n",
    "from sqlalchemy.ext.automap import automap_base\n",
    "from sqlalchemy import Column, Integer, String, Numeric, Text, Float"
   ]
  },
  {
   "cell_type": "code",
   "execution_count": 2,
   "metadata": {
    "scrolled": true
   },
   "outputs": [
    {
     "name": "stderr",
     "output_type": "stream",
     "text": [
      "C:\\Users\\dan.brueckman\\Anaconda3\\envs\\PythonData\\lib\\site-packages\\flask_sqlalchemy\\__init__.py:794: FSADeprecationWarning: SQLALCHEMY_TRACK_MODIFICATIONS adds significant overhead and will be disabled by default in the future.  Set it to True or False to suppress this warning.\n",
      "  'SQLALCHEMY_TRACK_MODIFICATIONS adds significant overhead and '\n"
     ]
    }
   ],
   "source": [
    "from flask_sqlalchemy import SQLAlchemy\n",
    "from flask import (\n",
    "    Flask,\n",
    "    render_template,\n",
    "    jsonify,\n",
    "    request,\n",
    "    redirect)\n",
    "from sqlalchemy.orm import Session\n",
    "\n",
    "app = Flask(__name__)\n",
    "\n",
    "app.config['SQLALCHEMY_DATABASE_URI'] = \"sqlite:///belly_button_biodiversity.sqlite\"\n",
    "db = SQLAlchemy(app)"
   ]
  },
  {
   "cell_type": "code",
   "execution_count": 3,
   "metadata": {},
   "outputs": [],
   "source": [
    "engine = create_engine(\"sqlite:///belly_button_biodiversity.sqlite\")"
   ]
  },
  {
   "cell_type": "code",
   "execution_count": 4,
   "metadata": {},
   "outputs": [
    {
     "data": {
      "text/plain": [
       "['otu', 'samples', 'samples_metadata']"
      ]
     },
     "execution_count": 4,
     "metadata": {},
     "output_type": "execute_result"
    }
   ],
   "source": [
    "engine.table_names()"
   ]
  },
  {
   "cell_type": "code",
   "execution_count": 5,
   "metadata": {},
   "outputs": [],
   "source": [
    "Base = automap_base()\n",
    "Base.prepare(engine, reflect=True)\n",
    "session = Session(engine)"
   ]
  },
  {
   "cell_type": "code",
   "execution_count": 6,
   "metadata": {
    "collapsed": true
   },
   "outputs": [],
   "source": [
    "OTU = Base.classes.otu\n",
    "Samples = Base.classes.samples\n",
    "MD = Base.classes.samples_metadata"
   ]
  },
  {
   "cell_type": "code",
   "execution_count": 7,
   "metadata": {},
   "outputs": [],
   "source": [
    "@app.route(\"/\")\n",
    "def home():\n",
    "    return render_template(\"index.html\")"
   ]
  },
  {
   "cell_type": "code",
   "execution_count": 8,
   "metadata": {},
   "outputs": [],
   "source": [
    "@app.route(\"/names\")\n",
    "def names():\n",
    "    \n",
    "    \"\"\"List of sample names.\n",
    "\n",
    "    Returns a list of sample names in the format\n",
    "    [\n",
    "        \"940\",\n",
    "        \"941\",\n",
    "        \"943\",\n",
    "        \"944\",\n",
    "        \"945\",\n",
    "        \"946\",\n",
    "        \"947\",\n",
    "        ...\n",
    "    ]\n",
    "\n",
    "    \"\"\"\n",
    "    \n",
    "    results = db.session.query(MD.SAMPLEID).all()\n",
    "    results = list(np.ravel(results))\n",
    "    return results"
   ]
  },
  {
   "cell_type": "code",
   "execution_count": 9,
   "metadata": {},
   "outputs": [],
   "source": [
    "@app.route(\"/otu\")\n",
    "def otu:\n",
    "    \n",
    "    \"\"\"List of OTU descriptions.\n",
    "\n",
    "    Returns a list of OTU descriptions in the following format\n",
    "\n",
    "    [\n",
    "        \"Archaea;Euryarchaeota;Halobacteria;Halobacteriales;Halobacteriaceae;Halococcus\",\n",
    "        \"Archaea;Euryarchaeota;Halobacteria;Halobacteriales;Halobacteriaceae;Halococcus\",\n",
    "        \"Bacteria\",\n",
    "        \"Bacteria\",\n",
    "        \"Bacteria\",\n",
    "        ...\n",
    "    ]\n",
    "    \"\"\"\n",
    "    \n",
    "    results = db.session.query(OTU.lowest_taxonomic_unit_found).all()\n",
    "    df = pd.DataFrame(results, columns =[\"otu_description\"])\n",
    "    return jsonify(df.to_dict(orient=\"records\"))"
   ]
  },
  {
   "cell_type": "code",
   "execution_count": 10,
   "metadata": {},
   "outputs": [],
   "source": [
    "@app.route('/metadata/<int:sample>')\n",
    "def meta(sample):\n",
    "    \n",
    "    \"\"\"MetaData for a given sample.\n",
    "\n",
    "    Args: Sample in the format: `940`\n",
    "\n",
    "    Returns a json dictionary of sample metadata in the format\n",
    "\n",
    "    {\n",
    "        AGE: 24,\n",
    "        BBTYPE: \"I\",\n",
    "        ETHNICITY: \"Caucasian\",\n",
    "        GENDER: \"F\",\n",
    "        LOCATION: \"Beaufort/NC\",\n",
    "        SAMPLEID: 940\n",
    "    }\n",
    "    \"\"\"\n",
    "    req = db.session.query(MD.SAMPLEID).all()\n",
    "    ravel = list(np.ravel(req))\n",
    "    if sample in ravel:\n",
    "        results = db.session.query(MD.AGE, MD.BBTYPE, MD.ETHNICITY, MD.GENDER, MD.LOCATION, MD.SAMPLEID).\\\n",
    "            filter(MD.SAMPLEID == sample).all()\n",
    "        df = pd.DataFrame(results, columns = [\"AGE\", \"BBTYPE\", \"ETHNICITY\", \"GENDER\", \"LOCATION\", \"SAMPLEID\"])\n",
    "        return jsonify(df.to_dict(orient=\"records\"))"
   ]
  },
  {
   "cell_type": "code",
   "execution_count": 11,
   "metadata": {
    "scrolled": true
   },
   "outputs": [],
   "source": [
    "@app.route('/wfreq/<int:sample>')\n",
    "def wash(sample):\n",
    "    \"\"\"Weekly Washing Frequency as a number.\n",
    "\n",
    "    Args: Sample in the format: `940`\n",
    "\n",
    "    Returns an integer value for the weekly washing frequency `WFREQ`\n",
    "    \"\"\"\n",
    "    req = db.session.query(MD.SAMPLEID).all()\n",
    "    ravel = list(np.ravel(req))\n",
    "    if sample in ravel:\n",
    "        results = db.session.query(MD.WFREQ).\\\n",
    "            filter(MD.SAMPLEID == sample).all()\n",
    "        return int(np.ravel(results))"
   ]
  },
  {
   "cell_type": "code",
   "execution_count": 12,
   "metadata": {
    "scrolled": true
   },
   "outputs": [],
   "source": [
    "@app.route('/samples/<int:sample>')\n",
    "def values(sample):\n",
    "    \n",
    "    \"\"\"OTU IDs and Sample Values for a given sample.\n",
    "\n",
    "    Sort your Pandas DataFrame (OTU ID and Sample Value)\n",
    "    in Descending Order by Sample Value\n",
    "\n",
    "    Return a list of dictionaries containing sorted lists  for `otu_ids`\n",
    "    and `sample_values`\n",
    "\n",
    "    [\n",
    "        {\n",
    "            otu_ids: [\n",
    "                1166,\n",
    "                2858,\n",
    "                481,\n",
    "                ...\n",
    "            ],\n",
    "            sample_values: [\n",
    "                163,\n",
    "                126,\n",
    "                113,\n",
    "                ...\n",
    "            ]\n",
    "        }\n",
    "    ]\n",
    "    \"\"\"\n",
    "    req = db.session.query(MD.SAMPLEID).all()\n",
    "    ravel = list(np.ravel(req))\n",
    "    if sample in ravel:\n",
    "        results = engine.execute(\"select otu_id, BB_%s from samples\" % sample).fetchall()\n",
    "        df = pd.DataFrame(results, columns = [\"otu_ids\", \"sample_values\"])\n",
    "        df.sort_values(by=\"sample_values\", ascending = False, inplace = True)\n",
    "        new_dict = df.to_dict(orient=\"list\")\n",
    "        return new_dict"
   ]
  },
  {
   "cell_type": "code",
   "execution_count": 13,
   "metadata": {},
   "outputs": [
    {
     "name": "stderr",
     "output_type": "stream",
     "text": [
      "[NbConvertApp] Converting notebook 1.ipynb to script\n",
      "[NbConvertApp] Writing 4182 bytes to 1.py\n"
     ]
    }
   ],
   "source": [
    "!jupyter nbconvert --to script 1.ipynb"
   ]
  },
  {
   "cell_type": "code",
   "execution_count": null,
   "metadata": {},
   "outputs": [],
   "source": []
  },
  {
   "cell_type": "code",
   "execution_count": 14,
   "metadata": {
    "collapsed": true
   },
   "outputs": [],
   "source": [
    "def ab():\n",
    "    results = db.session.query(MD.SAMPLEID).all()\n",
    "    results = list(np.ravel(results))\n",
    "    return results"
   ]
  },
  {
   "cell_type": "code",
   "execution_count": 28,
   "metadata": {},
   "outputs": [
    {
     "data": {
      "text/plain": [
       "['940',\n",
       " '941',\n",
       " '943',\n",
       " '944',\n",
       " '945',\n",
       " '946',\n",
       " '947',\n",
       " '948',\n",
       " '949',\n",
       " '950',\n",
       " '952',\n",
       " '953',\n",
       " '954',\n",
       " '955',\n",
       " '956',\n",
       " '958',\n",
       " '959',\n",
       " '960',\n",
       " '961',\n",
       " '962',\n",
       " '963',\n",
       " '964',\n",
       " '966',\n",
       " '967',\n",
       " '968',\n",
       " '969',\n",
       " '970',\n",
       " '971',\n",
       " '972',\n",
       " '973',\n",
       " '974',\n",
       " '975',\n",
       " '978',\n",
       " '1233',\n",
       " '1234',\n",
       " '1235',\n",
       " '1236',\n",
       " '1237',\n",
       " '1238',\n",
       " '1242',\n",
       " '1243',\n",
       " '1246',\n",
       " '1253',\n",
       " '1254',\n",
       " '1258',\n",
       " '1259',\n",
       " '1260',\n",
       " '1264',\n",
       " '1265',\n",
       " '1273',\n",
       " '1275',\n",
       " '1276',\n",
       " '1277',\n",
       " '1278',\n",
       " '1279',\n",
       " '1280',\n",
       " '1281',\n",
       " '1282',\n",
       " '1283',\n",
       " '1284',\n",
       " '1285',\n",
       " '1286',\n",
       " '1287',\n",
       " '1288',\n",
       " '1289',\n",
       " '1290',\n",
       " '1291',\n",
       " '1292',\n",
       " '1293',\n",
       " '1294',\n",
       " '1295',\n",
       " '1296',\n",
       " '1297',\n",
       " '1298',\n",
       " '1308',\n",
       " '1309',\n",
       " '1310',\n",
       " '1374',\n",
       " '1415',\n",
       " '1439',\n",
       " '1441',\n",
       " '1443',\n",
       " '1486',\n",
       " '1487',\n",
       " '1489',\n",
       " '1490',\n",
       " '1491',\n",
       " '1494',\n",
       " '1495',\n",
       " '1497',\n",
       " '1499',\n",
       " '1500',\n",
       " '1501',\n",
       " '1502',\n",
       " '1503',\n",
       " '1504',\n",
       " '1505',\n",
       " '1506',\n",
       " '1507',\n",
       " '1508',\n",
       " '1510',\n",
       " '1511',\n",
       " '1512',\n",
       " '1513',\n",
       " '1514',\n",
       " '1515',\n",
       " '1516',\n",
       " '1517',\n",
       " '1518',\n",
       " '1519',\n",
       " '1521',\n",
       " '1524',\n",
       " '1526',\n",
       " '1527',\n",
       " '1530',\n",
       " '1531',\n",
       " '1532',\n",
       " '1533',\n",
       " '1534',\n",
       " '1535',\n",
       " '1536',\n",
       " '1537',\n",
       " '1539',\n",
       " '1540',\n",
       " '1541',\n",
       " '1542',\n",
       " '1543',\n",
       " '1544',\n",
       " '1545',\n",
       " '1546',\n",
       " '1547',\n",
       " '1548',\n",
       " '1549',\n",
       " '1550',\n",
       " '1551',\n",
       " '1552',\n",
       " '1553',\n",
       " '1554',\n",
       " '1555',\n",
       " '1556',\n",
       " '1557',\n",
       " '1558',\n",
       " '1561',\n",
       " '1562',\n",
       " '1563',\n",
       " '1564',\n",
       " '1572',\n",
       " '1573',\n",
       " '1574',\n",
       " '1576',\n",
       " '1577',\n",
       " '1581',\n",
       " '1601']"
      ]
     },
     "execution_count": 28,
     "metadata": {},
     "output_type": "execute_result"
    }
   ],
   "source": [
    "results = db.session.query(MD.SAMPLEID).all()\n",
    "results = list(np.ravel(results))\n",
    "results = list(map(str, results))\n",
    "results"
   ]
  },
  {
   "cell_type": "code",
   "execution_count": null,
   "metadata": {
    "collapsed": true
   },
   "outputs": [],
   "source": []
  }
 ],
 "metadata": {
  "kernelspec": {
   "display_name": "Python 3",
   "language": "python",
   "name": "python3"
  },
  "language_info": {
   "codemirror_mode": {
    "name": "ipython",
    "version": 3
   },
   "file_extension": ".py",
   "mimetype": "text/x-python",
   "name": "python",
   "nbconvert_exporter": "python",
   "pygments_lexer": "ipython3",
   "version": "3.6.3"
  }
 },
 "nbformat": 4,
 "nbformat_minor": 2
}
