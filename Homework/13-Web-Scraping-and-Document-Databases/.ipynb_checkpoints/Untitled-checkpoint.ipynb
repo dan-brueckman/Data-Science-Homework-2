{
 "cells": [
  {
   "cell_type": "code",
   "execution_count": 10,
   "metadata": {},
   "outputs": [],
   "source": [
    "from flask import Flask, render_template, jsonify, redirect\n",
    "from flask_pymongo import PyMongo\n",
    "from bs4 import BeautifulSoup as bs\n",
    "import requests as req\n",
    "from splinter import Browser\n",
    "import pandas as pd\n",
    "import scrape_mars\n",
    "\n",
    "app = Flask(__name__)\n",
    "\n",
    "mongo = PyMongo(app)\n",
    "\n",
    "@app.route('/')\n",
    "def index():\n",
    "    mars = mongo.db.mars.find_one()\n",
    "    return render_template('index.html', mars=mars)\n",
    "\n",
    "\n",
    "@app.route('/scrape')\n",
    "def scrape():\n",
    "    mars = mongo.db.mars\n",
    "    data = scrape_mars.scrape()\n",
    "    mars.update(\n",
    "        {},\n",
    "        data,\n",
    "        upsert=True\n",
    "    )\n",
    "    return redirect(\"http://localhost:5000/\", code=302)\n",
    "\n",
    "\n",
    "if __name__ == \"__main__\":\n",
    "    app.run(debug=True)"
   ]
  }
 ],
 "metadata": {
  "kernelspec": {
   "display_name": "Python 3",
   "language": "python",
   "name": "python3"
  },
  "language_info": {
   "codemirror_mode": {
    "name": "ipython",
    "version": 3
   },
   "file_extension": ".py",
   "mimetype": "text/x-python",
   "name": "python",
   "nbconvert_exporter": "python",
   "pygments_lexer": "ipython3",
   "version": "3.6.3"
  }
 },
 "nbformat": 4,
 "nbformat_minor": 2
}
