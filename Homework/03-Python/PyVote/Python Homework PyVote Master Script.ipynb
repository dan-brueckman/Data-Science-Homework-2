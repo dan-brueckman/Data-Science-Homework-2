{
 "cells": [
  {
   "cell_type": "code",
   "execution_count": 35,
   "metadata": {},
   "outputs": [
    {
     "name": "stdout",
     "output_type": "stream",
     "text": [
      "Election Results\n",
      "------------------\n",
      "Total Votes: 803000\n",
      "------------------\n",
      "Vestal: 48.0%  385440\n",
      "Torres: 44.0%  353320\n",
      "Seth: 5.0%  40150\n",
      "Cordin: 3.0%  24090\n",
      "------------------\n",
      "Winner: Vestal\n",
      "------------------\n"
     ]
    }
   ],
   "source": [
    "import os\n",
    "import csv\n",
    "import sys\n",
    "csv_path = os.path.join(\".\", \"election_data_1.csv\")\n",
    "\n",
    "with open(csv_path, \"r\") as csvfile:\n",
    "    csvreader = csv.reader(csvfile, delimiter=',')\n",
    "    next(csvreader, None)\n",
    "    num_votes = []\n",
    "    candidates = []\n",
    "    who_ran = []\n",
    "    final_percent = []\n",
    "    ind_votes = []\n",
    "    for row in csvreader:\n",
    "        num_votes.append(row[2])\n",
    "        candidates.append(row[2])\n",
    "    for c in candidates:\n",
    "        if c not in who_ran:\n",
    "            who_ran.append(c)\n",
    "    for x in who_ran:\n",
    "        ind_votes.append(candidates.count(x))\n",
    "    total_votes = len(num_votes)\n",
    "    high_votes = max(ind_votes)\n",
    "    for p in ind_votes:\n",
    "        final_percent.append((p/total_votes)*100)\n",
    "        if p == high_votes:\n",
    "            winner_index = ind_votes.index(p)\n",
    "    winner = who_ran[winner_index]  \n",
    "    \n",
    "\n",
    "print(\"Election Results\")\n",
    "print(\"------------------\")\n",
    "print(\"Total Votes: \" + str(total_votes))\n",
    "print(\"------------------\")\n",
    "print(who_ran[0] + \": \" + str(final_percent[0]) + \"%  \" + str(ind_votes[0]))\n",
    "print(who_ran[1] + \": \" + str(final_percent[1]) + \"%  \" + str(ind_votes[1]))\n",
    "print(who_ran[2] + \": \" + str(final_percent[2]) + \"%  \" + str(ind_votes[2]))\n",
    "print(who_ran[3] + \": \" + str(final_percent[3]) + \"%  \" + str(ind_votes[3]))\n",
    "print(\"------------------\")\n",
    "print(\"Winner: \" + str(winner))\n",
    "print(\"------------------\")"
   ]
  },
  {
   "cell_type": "code",
   "execution_count": null,
   "metadata": {},
   "outputs": [],
   "source": []
  },
  {
   "cell_type": "code",
   "execution_count": null,
   "metadata": {},
   "outputs": [],
   "source": []
  },
  {
   "cell_type": "code",
   "execution_count": null,
   "metadata": {
    "collapsed": true
   },
   "outputs": [],
   "source": []
  }
 ],
 "metadata": {
  "kernelspec": {
   "display_name": "Python 3",
   "language": "python",
   "name": "python3"
  },
  "language_info": {
   "codemirror_mode": {
    "name": "ipython",
    "version": 3
   },
   "file_extension": ".py",
   "mimetype": "text/x-python",
   "name": "python",
   "nbconvert_exporter": "python",
   "pygments_lexer": "ipython3",
   "version": "3.6.3"
  }
 },
 "nbformat": 4,
 "nbformat_minor": 2
}
